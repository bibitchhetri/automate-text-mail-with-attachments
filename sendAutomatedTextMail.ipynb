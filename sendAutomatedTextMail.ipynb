{
 "cells": [
  {
   "cell_type": "code",
   "execution_count": 96,
   "id": "ca4b5979-15d2-4c01-95ac-56103a3cf0a7",
   "metadata": {},
   "outputs": [],
   "source": [
    "import smtplib\n",
    "import csv\n",
    "from email.mime.text import MIMEText\n",
    "from email.mime.multipart import MIMEMultipart"
   ]
  },
  {
   "cell_type": "code",
   "execution_count": 97,
   "id": "b588dc65-ea78-457e-b786-874ae13f1922",
   "metadata": {},
   "outputs": [],
   "source": [
    "# Email configuration\n",
    "sender_email = 'your_mail@gmail.com'\n",
    "sender_password = 'gmail_pass_key'\n",
    "subject = 'provide subject here'"
   ]
  },
  {
   "cell_type": "code",
   "execution_count": 98,
   "id": "24a1bbca-807f-4516-9311-6cecbc8bcd66",
   "metadata": {},
   "outputs": [],
   "source": [
    "message_template = \"\"\"\n",
    "Dear {recipient_name},\n",
    "\n",
    "I hope this message finds you well. I'm reaching out to introduce you to our latest demo, {demo_name}. \n",
    "With features like {feature_1} and {feature_2}, it's designed to {brief_description}. I'd love to offer\n",
    "you a quick, personalized demo at your convenience. Are you available for a brief call this week?\n",
    "\n",
    "Best regards,\n",
    "{your_full_name}\n",
    "{your_company}\n",
    "\"\"\""
   ]
  },
  {
   "cell_type": "code",
   "execution_count": 99,
   "id": "9c482e26-4eae-4a1a-8c37-1b5fb119ff97",
   "metadata": {},
   "outputs": [],
   "source": [
    "csv_file_path = 'src/campList.csv'"
   ]
  },
  {
   "cell_type": "code",
   "execution_count": 100,
   "id": "040cb455-3774-49db-a35c-f3a73be36399",
   "metadata": {},
   "outputs": [],
   "source": [
    "smtp_server = 'smtp.gmail.com'\n",
    "smtp_port = 587"
   ]
  },
  {
   "cell_type": "code",
   "execution_count": 101,
   "id": "9ce8367d-d9b1-4a45-9caa-fe0ea339ea0d",
   "metadata": {},
   "outputs": [],
   "source": [
    "def read_recipients_from_csv(csv_file_path):\n",
    "    recipients = []\n",
    "    with open(csv_file_path, 'r') as csv_file:\n",
    "        csv_reader = csv.DictReader(csv_file)\n",
    "        for row in csv_reader:\n",
    "            recipients.append(row)\n",
    "    return recipients"
   ]
  },
  {
   "cell_type": "code",
   "execution_count": 102,
   "id": "5f22a400-aba8-4f84-b952-020e21b46636",
   "metadata": {},
   "outputs": [
    {
     "data": {
      "text/plain": [
       "[{'S.No': '1', 'Name': 'Bibit Kunwar', 'Email': 'kunwar.bibit7@gmail.com'},\n",
       " {'S.No': '2', 'Name': 'Janam Kunwar', 'Email': 'be2020se709@gces.edu.np'},\n",
       " {'S.No': '3', 'Name': 'Avi Baral', 'Email': 'kbibit96@gmail.com'}]"
      ]
     },
     "execution_count": 102,
     "metadata": {},
     "output_type": "execute_result"
    }
   ],
   "source": [
    "read_recipients_from_csv(csv_file_path)"
   ]
  },
  {
   "cell_type": "code",
   "execution_count": 103,
   "id": "fa6e0e7f-7981-4092-a1f9-8b4fe34fb8df",
   "metadata": {},
   "outputs": [
    {
     "data": {
      "text/plain": [
       "(235, b'2.7.0 Accepted')"
      ]
     },
     "execution_count": 103,
     "metadata": {},
     "output_type": "execute_result"
    }
   ],
   "source": [
    "server = smtplib.SMTP(smtp_server, smtp_port)\n",
    "server.starttls()\n",
    "server.login(sender_email, sender_password)"
   ]
  },
  {
   "cell_type": "code",
   "execution_count": 104,
   "id": "c254cb7d-8dc0-4c70-bd74-0393cc99d8a5",
   "metadata": {},
   "outputs": [],
   "source": [
    "    recipients = read_recipients_from_csv(csv_file_path)"
   ]
  },
  {
   "cell_type": "code",
   "execution_count": 105,
   "id": "fc528e87-a6d5-482c-b7a8-d88819689f72",
   "metadata": {},
   "outputs": [
    {
     "name": "stdout",
     "output_type": "stream",
     "text": [
      "Email sent successfully to kunwar.bibit7@gmail.com\n",
      "Email sent successfully to be2020se709@gces.edu.np\n",
      "Email sent successfully to kbibit96@gmail.com\n"
     ]
    }
   ],
   "source": [
    "# Send emails\n",
    "for recipient in recipients:\n",
    "    personalized_message = message_template.format(\n",
    "        recipient_name=recipient['Name'],\n",
    "        demo_name='WordCamp Nepal',\n",
    "        feature_1='Organizers',\n",
    "        feature_2='Volunteers',\n",
    "        brief_description='Organizers & Volunteers',\n",
    "        your_full_name='WordPress Pokhara',\n",
    "        your_company='WordCamp Nepal'\n",
    "    )\n",
    "\n",
    "    msg = MIMEMultipart()\n",
    "    msg['From'] = sender_email\n",
    "    msg['To'] = recipient['Email']\n",
    "    msg['Subject'] = subject\n",
    "    msg.attach(MIMEText(personalized_message, 'plain'))\n",
    "\n",
    "    try:\n",
    "        # Send the email\n",
    "        server.sendmail(sender_email, recipient['Email'], msg.as_string())\n",
    "        print(f\"Email sent successfully to {recipient['Email']}\")\n",
    "    except smtplib.SMTPException as e:\n",
    "        print(f\"Failed to send email to {recipient['Email']}. Error: {e}\")"
   ]
  },
  {
   "cell_type": "code",
   "execution_count": 106,
   "id": "1d3d4ef7-e4a5-44b0-b967-37559431e82a",
   "metadata": {},
   "outputs": [],
   "source": [
    "        # msg = MIMEMultipart()\n",
    "        # msg['From'] = sender_email\n",
    "        # msg['To'] = recipient['Email']\n",
    "        # msg['Subject'] = subject\n",
    "        # msg.attach(MIMEText(personalized_message, 'plain'))"
   ]
  },
  {
   "cell_type": "code",
   "execution_count": 107,
   "id": "2d073b4a-cfb1-47fd-bf6a-ebbc86a520c7",
   "metadata": {},
   "outputs": [],
   "source": [
    "    # try:\n",
    "    #     # Send the email\n",
    "    #     server.sendmail(sender_email, recipient['Email'], msg.as_string())\n",
    "    #     print(f\"Email sent successfully to {recipient['Email']}\")\n",
    "    # except smtplib.SMTPException as e:\n",
    "    #     print(f\"Failed to send email to {recipient['Email']}. Error: {e}\")"
   ]
  },
  {
   "cell_type": "code",
   "execution_count": 108,
   "id": "6e94342a-20ac-4578-b8f9-e96c6eee1127",
   "metadata": {
    "scrolled": true
   },
   "outputs": [
    {
     "data": {
      "text/plain": [
       "(221,\n",
       " b'2.0.0 closing connection f16-20020a056a001ad000b006de09d94723sm396301pfv.17 - gsmtp')"
      ]
     },
     "execution_count": 108,
     "metadata": {},
     "output_type": "execute_result"
    }
   ],
   "source": [
    "server.quit()"
   ]
  }
 ],
 "metadata": {
  "kernelspec": {
   "display_name": "Python 3 (ipykernel)",
   "language": "python",
   "name": "python3"
  },
  "language_info": {
   "codemirror_mode": {
    "name": "ipython",
    "version": 3
   },
   "file_extension": ".py",
   "mimetype": "text/x-python",
   "name": "python",
   "nbconvert_exporter": "python",
   "pygments_lexer": "ipython3",
   "version": "3.11.7"
  }
 },
 "nbformat": 4,
 "nbformat_minor": 5
}

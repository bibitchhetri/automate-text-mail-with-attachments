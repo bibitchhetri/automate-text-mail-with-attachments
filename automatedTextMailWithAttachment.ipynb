{
 "cells": [
  {
   "cell_type": "code",
   "execution_count": 28,
   "id": "16dc25c8-b652-4b83-932f-a1076f296556",
   "metadata": {},
   "outputs": [],
   "source": [
    "import os\n",
    "import smtplib\n",
    "import csv\n",
    "import time\n",
    "from email.mime.text import MIMEText\n",
    "from email.mime.multipart import MIMEMultipart\n",
    "from email.mime.application import MIMEApplication"
   ]
  },
  {
   "cell_type": "code",
   "execution_count": 29,
   "id": "48b2cd5d-f63e-4121-912a-3ad95a72ed3b",
   "metadata": {},
   "outputs": [],
   "source": [
    "# Email configuration\n",
    "sender_email = 'your_mail@gmail.com'\n",
    "sender_password = 'gmail_pass_key'\n",
    "subject = 'provide subject here'"
   ]
  },
  {
   "cell_type": "code",
   "execution_count": 30,
   "id": "4ff5c5f0-92fb-44a7-a034-4bbff2ad2a10",
   "metadata": {},
   "outputs": [],
   "source": [
    "message_template = \"\"\"\n",
    "Dear {recipient_name},\n",
    "\n",
    "I hope this message finds you well. I'm reaching out to introduce you to our latest demo, {demo_name}. \n",
    "With features like {feature_1} and {feature_2}, it's designed to {brief_description}. I'd love to offer\n",
    "you a quick, personalized demo at your convenience. Are you available for a brief call this week?\n",
    "\n",
    "Best regards,\n",
    "{your_full_name}\n",
    "{your_company}\n",
    "\"\"\""
   ]
  },
  {
   "cell_type": "code",
   "execution_count": 31,
   "id": "a2ffdebc-e4f9-4f55-9b88-3c3f1c597fc0",
   "metadata": {},
   "outputs": [],
   "source": [
    "csv_file_path = 'src/campList.csv'\n",
    "certs_folder = 'src/certs'"
   ]
  },
  {
   "cell_type": "code",
   "execution_count": 32,
   "id": "8a100d05-32e3-47d4-9927-ed09af8a6fdd",
   "metadata": {},
   "outputs": [],
   "source": [
    "smtp_server = 'smtp.gmail.com'\n",
    "smtp_port = 587"
   ]
  },
  {
   "cell_type": "code",
   "execution_count": 33,
   "id": "4ad98319-66d9-47f9-8519-c7e48c1bfaec",
   "metadata": {},
   "outputs": [],
   "source": [
    "def read_recipients_from_csv(csv_file_path):\n",
    "    recipients = []\n",
    "    with open(csv_file_path, 'r', encoding='utf-8-sig') as csv_file:\n",
    "        csv_reader = csv.DictReader(csv_file)\n",
    "        for row in csv_reader:\n",
    "            recipients.append(row)\n",
    "    return recipients"
   ]
  },
  {
   "cell_type": "code",
   "execution_count": 41,
   "id": "b74c57af-6281-41b2-b589-f28af2948e6d",
   "metadata": {},
   "outputs": [
    {
     "data": {
      "text/plain": [
       "(235, b'2.7.0 Accepted')"
      ]
     },
     "execution_count": 41,
     "metadata": {},
     "output_type": "execute_result"
    }
   ],
   "source": [
    "server = smtplib.SMTP(smtp_server, smtp_port)\n",
    "server.starttls()\n",
    "server.login(sender_email, sender_password)"
   ]
  },
  {
   "cell_type": "code",
   "execution_count": 42,
   "id": "65e1c7f7-efb5-48df-9874-c9863e33b084",
   "metadata": {},
   "outputs": [
    {
     "data": {
      "text/plain": [
       "[{'S.No': '1', 'Name': 'Bibit Kunwar', 'Email': 'kunwar.bibit7@gmail.com'},\n",
       " {'S.No': '2', 'Name': 'Janam Kunwar', 'Email': 'be2020se709@gces.edu.np'},\n",
       " {'S.No': '3', 'Name': 'Avi Baral', 'Email': 'kbibit96@gmail.com'}]"
      ]
     },
     "execution_count": 42,
     "metadata": {},
     "output_type": "execute_result"
    }
   ],
   "source": [
    "recipients = read_recipients_from_csv(csv_file_path)\n",
    "recipients"
   ]
  },
  {
   "cell_type": "code",
   "execution_count": 43,
   "id": "560aa492-61fe-4143-acdf-38385cfd17a2",
   "metadata": {},
   "outputs": [
    {
     "name": "stdout",
     "output_type": "stream",
     "text": [
      "Processing Bibit Kunwar, Certificate: bibitkunwar.png\n",
      "Certificate found for Bibit Kunwar.\n",
      "Email sent successfully to kunwar.bibit7@gmail.com with certificate.\n",
      "Processing Janam Kunwar, Certificate: janamkunwar.png\n",
      "Certificate found for Janam Kunwar.\n",
      "Email sent successfully to be2020se709@gces.edu.np with certificate.\n",
      "Processing Avi Baral, Certificate: avibaral.png\n",
      "Certificate found for Avi Baral.\n",
      "Email sent successfully to kbibit96@gmail.com with certificate.\n"
     ]
    }
   ],
   "source": [
    "for recipient in recipients:\n",
    "    personalized_message = message_template.format(\n",
    "        recipient_name=recipient['Name'],\n",
    "        # replace your info below\n",
    "        demo_name='WordCamp Nepal', \n",
    "        feature_1='Organizers',\n",
    "        feature_2='Volunteers',\n",
    "        brief_description='Organizers & Volunteers',\n",
    "        your_full_name='WordPress Pokhara',\n",
    "        your_company='WordCamp Nepal'\n",
    "    )\n",
    "    certificate_filename = recipient['Name'].replace(' ', '').lower() + '.png'\n",
    "    certificate_filename = certificate_filename.replace('\\ufeff', '')\n",
    "    certificate_path = os.path.join(certs_folder, certificate_filename)\n",
    "    print(f\"Processing {recipient['Name']}, Certificate: {certificate_filename}\")\n",
    "    if os.path.exists(certificate_path):\n",
    "        print(f\"Certificate found for {recipient['Name']}.\")\n",
    "        msg = MIMEMultipart()\n",
    "        msg['From'] = sender_email\n",
    "        msg['To'] = recipient['Email']\n",
    "        msg['Subject'] = subject\n",
    "        msg.attach(MIMEText(personalized_message, 'plain'))\n",
    "\n",
    "        with open(certificate_path, 'rb') as cert_file:\n",
    "            cert_attachment = MIMEApplication(cert_file.read(), Name=os.path.basename(certificate_path))\n",
    "            cert_attachment['Content-Disposition'] = f'attachment; filename={os.path.basename(certificate_path)}'\n",
    "            msg.attach(cert_attachment)\n",
    "\n",
    "        try:\n",
    "            server.sendmail(sender_email, recipient['Email'], msg.as_string())\n",
    "            print(f\"Email sent successfully to {recipient['Email']} with certificate.\")\n",
    "        except smtplib.SMTPException as e:\n",
    "            print(f\"Failed to send email to {recipient['Email']}. Error: {e}\")\n",
    "    else:\n",
    "        print(f\"Certificate not found for {recipient['Name']}. Skipping email.\")\n",
    "    \n",
    "    time.sleep(2)"
   ]
  },
  {
   "cell_type": "code",
   "execution_count": 37,
   "id": "609b55dd-cd4e-4530-9bbf-d783a5dda650",
   "metadata": {},
   "outputs": [],
   "source": [
    "    # certificate_filename = recipient['Name'].replace(' ', '').lower() + '.png'\n",
    "    # certificate_filename = certificate_filename.replace('\\ufeff', '')\n",
    "    # certificate_path = os.path.join(certs_folder, certificate_filename)"
   ]
  },
  {
   "cell_type": "code",
   "execution_count": 38,
   "id": "8e0c65b7-f258-4970-969d-c8aada3e60a3",
   "metadata": {},
   "outputs": [
    {
     "name": "stdout",
     "output_type": "stream",
     "text": [
      "Processing Avi Baral, Certificate: avibaral.png\n"
     ]
    }
   ],
   "source": [
    "    # print(f\"Processing {recipient['Name']}, Certificate: {certificate_filename}\")"
   ]
  },
  {
   "cell_type": "code",
   "execution_count": 39,
   "id": "78f00484-79a0-47f8-8b28-5dd2bc8024ac",
   "metadata": {},
   "outputs": [
    {
     "name": "stdout",
     "output_type": "stream",
     "text": [
      "Certificate found for Avi Baral.\n",
      "Email sent successfully to kbibit96@gmail.com with certificate.\n"
     ]
    }
   ],
   "source": [
    "    # if os.path.exists(certificate_path):\n",
    "    #     print(f\"Certificate found for {recipient['Name']}.\")\n",
    "    #     msg = MIMEMultipart()\n",
    "    #     msg['From'] = sender_email\n",
    "    #     msg['To'] = recipient['Email']\n",
    "    #     msg['Subject'] = subject\n",
    "    #     msg.attach(MIMEText(personalized_message, 'plain'))\n",
    "\n",
    "    #     with open(certificate_path, 'rb') as cert_file:\n",
    "    #         cert_attachment = MIMEApplication(cert_file.read(), Name=os.path.basename(certificate_path))\n",
    "    #         cert_attachment['Content-Disposition'] = f'attachment; filename={os.path.basename(certificate_path)}'\n",
    "    #         msg.attach(cert_attachment)\n",
    "\n",
    "    #     try:\n",
    "    #         server.sendmail(sender_email, recipient['Email'], msg.as_string())\n",
    "    #         print(f\"Email sent successfully to {recipient['Email']} with certificate.\")\n",
    "    #     except smtplib.SMTPException as e:\n",
    "    #         print(f\"Failed to send email to {recipient['Email']}. Error: {e}\")\n",
    "    # else:\n",
    "    #     print(f\"Certificate not found for {recipient['Name']}. Skipping email.\")\n",
    "\n",
    "    # time.sleep(2)"
   ]
  },
  {
   "cell_type": "code",
   "execution_count": 44,
   "id": "8e9ace0d-eb43-4de4-9319-fd9827f03480",
   "metadata": {},
   "outputs": [
    {
     "data": {
      "text/plain": [
       "(221,\n",
       " b'2.0.0 closing connection by36-20020a056a0205a400b005ceb4a6d72bsm1054257pgb.65 - gsmtp')"
      ]
     },
     "execution_count": 44,
     "metadata": {},
     "output_type": "execute_result"
    }
   ],
   "source": [
    "server.quit()"
   ]
  }
 ],
 "metadata": {
  "kernelspec": {
   "display_name": "Python 3 (ipykernel)",
   "language": "python",
   "name": "python3"
  },
  "language_info": {
   "codemirror_mode": {
    "name": "ipython",
    "version": 3
   },
   "file_extension": ".py",
   "mimetype": "text/x-python",
   "name": "python",
   "nbconvert_exporter": "python",
   "pygments_lexer": "ipython3",
   "version": "3.11.7"
  }
 },
 "nbformat": 4,
 "nbformat_minor": 5
}
